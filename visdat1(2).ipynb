{
 "cells": [
  {
   "cell_type": "code",
   "execution_count": 2,
   "id": "f73c62f6",
   "metadata": {},
   "outputs": [
    {
     "name": "stdout",
     "output_type": "stream",
     "text": [
      "Requirement already satisfied: pandas in c:\\users\\asus\\appdata\\local\\programs\\python\\python39\\lib\\site-packages (1.4.2)Note: you may need to restart the kernel to use updated packages.\n",
      "\n",
      "Requirement already satisfied: python-dateutil>=2.8.1 in c:\\users\\asus\\appdata\\local\\programs\\python\\python39\\lib\\site-packages (from pandas) (2.8.2)\n",
      "Requirement already satisfied: numpy>=1.18.5 in c:\\users\\asus\\appdata\\local\\programs\\python\\python39\\lib\\site-packages (from pandas) (1.22.4)\n",
      "Requirement already satisfied: pytz>=2020.1 in c:\\users\\asus\\appdata\\local\\programs\\python\\python39\\lib\\site-packages (from pandas) (2022.1)\n",
      "Requirement already satisfied: six>=1.5 in c:\\users\\asus\\appdata\\local\\programs\\python\\python39\\lib\\site-packages (from python-dateutil>=2.8.1->pandas) (1.16.0)\n"
     ]
    },
    {
     "name": "stderr",
     "output_type": "stream",
     "text": [
      "WARNING: You are using pip version 21.2.4; however, version 22.1.2 is available.\n",
      "You should consider upgrading via the 'C:\\Users\\Asus\\AppData\\Local\\Programs\\Python\\Python39\\python.exe -m pip install --upgrade pip' command.\n"
     ]
    }
   ],
   "source": [
    "pip install pandas"
   ]
  },
  {
   "cell_type": "code",
   "execution_count": 3,
   "id": "d653252d",
   "metadata": {},
   "outputs": [
    {
     "name": "stdout",
     "output_type": "stream",
     "text": [
      "Requirement already satisfied: bokeh in c:\\users\\asus\\appdata\\local\\programs\\python\\python39\\lib\\site-packages (2.4.3)\n",
      "Requirement already satisfied: PyYAML>=3.10 in c:\\users\\asus\\appdata\\local\\programs\\python\\python39\\lib\\site-packages (from bokeh) (6.0)\n",
      "Requirement already satisfied: tornado>=5.1 in c:\\users\\asus\\appdata\\local\\programs\\python\\python39\\lib\\site-packages (from bokeh) (6.1)\n",
      "Requirement already satisfied: typing-extensions>=3.10.0 in c:\\users\\asus\\appdata\\local\\programs\\python\\python39\\lib\\site-packages (from bokeh) (4.2.0)\n",
      "Requirement already satisfied: numpy>=1.11.3 in c:\\users\\asus\\appdata\\local\\programs\\python\\python39\\lib\\site-packages (from bokeh) (1.22.4)\n",
      "Requirement already satisfied: Jinja2>=2.9 in c:\\users\\asus\\appdata\\local\\programs\\python\\python39\\lib\\site-packages (from bokeh) (3.1.2)\n",
      "Requirement already satisfied: pillow>=7.1.0 in c:\\users\\asus\\appdata\\local\\programs\\python\\python39\\lib\\site-packages (from bokeh) (9.1.1)\n",
      "Requirement already satisfied: packaging>=16.8 in c:\\users\\asus\\appdata\\local\\programs\\python\\python39\\lib\\site-packages (from bokeh) (21.3)\n",
      "Requirement already satisfied: MarkupSafe>=2.0 in c:\\users\\asus\\appdata\\local\\programs\\python\\python39\\lib\\site-packages (from Jinja2>=2.9->bokeh) (2.1.1)\n",
      "Requirement already satisfied: pyparsing!=3.0.5,>=2.0.2 in c:\\users\\asus\\appdata\\local\\programs\\python\\python39\\lib\\site-packages (from packaging>=16.8->bokeh) (3.0.9)\n",
      "Note: you may need to restart the kernel to use updated packages.\n"
     ]
    },
    {
     "name": "stderr",
     "output_type": "stream",
     "text": [
      "WARNING: You are using pip version 21.2.4; however, version 22.1.2 is available.\n",
      "You should consider upgrading via the 'C:\\Users\\Asus\\AppData\\Local\\Programs\\Python\\Python39\\python.exe -m pip install --upgrade pip' command.\n"
     ]
    }
   ],
   "source": [
    "pip install bokeh"
   ]
  },
  {
   "cell_type": "code",
   "execution_count": 6,
   "id": "482b49d5",
   "metadata": {},
   "outputs": [
    {
     "name": "stdout",
     "output_type": "stream",
     "text": [
      "Requirement already satisfied: openpyxl in c:\\users\\asus\\appdata\\local\\programs\\python\\python39\\lib\\site-packages (3.0.10)\n",
      "Requirement already satisfied: et-xmlfile in c:\\users\\asus\\appdata\\local\\programs\\python\\python39\\lib\\site-packages (from openpyxl) (1.1.0)\n",
      "Note: you may need to restart the kernel to use updated packages.\n"
     ]
    },
    {
     "name": "stderr",
     "output_type": "stream",
     "text": [
      "WARNING: You are using pip version 21.2.4; however, version 22.1.2 is available.\n",
      "You should consider upgrading via the 'C:\\Users\\Asus\\AppData\\Local\\Programs\\Python\\Python39\\python.exe -m pip install --upgrade pip' command.\n"
     ]
    }
   ],
   "source": [
    "pip install openpyxl"
   ]
  },
  {
   "cell_type": "code",
   "execution_count": 3,
   "id": "742d4267",
   "metadata": {},
   "outputs": [
    {
     "name": "stderr",
     "output_type": "stream",
     "text": [
      "C:\\Users\\Asus\\AppData\\Local\\Programs\\Python\\Python39\\lib\\site-packages\\bokeh\\models\\plots.py:815: UserWarning: \n",
      "You are attempting to set `plot.legend.location` on a plot that has zero legends added, this will have no effect.\n",
      "\n",
      "Before legend properties can be set, you must add a Legend explicitly, or call a glyph method with a legend parameter set.\n",
      "\n",
      "  warnings.warn(_LEGEND_EMPTY_WARNING % attr)\n",
      "C:\\Users\\Asus\\AppData\\Local\\Programs\\Python\\Python39\\lib\\site-packages\\bokeh\\models\\plots.py:815: UserWarning: \n",
      "You are attempting to set `plot.legend.border_line_alpha` on a plot that has zero legends added, this will have no effect.\n",
      "\n",
      "Before legend properties can be set, you must add a Legend explicitly, or call a glyph method with a legend parameter set.\n",
      "\n",
      "  warnings.warn(_LEGEND_EMPTY_WARNING % attr)\n",
      "C:\\Users\\Asus\\AppData\\Local\\Programs\\Python\\Python39\\lib\\site-packages\\bokeh\\models\\plots.py:815: UserWarning: \n",
      "You are attempting to set `plot.legend.background_fill_alpha` on a plot that has zero legends added, this will have no effect.\n",
      "\n",
      "Before legend properties can be set, you must add a Legend explicitly, or call a glyph method with a legend parameter set.\n",
      "\n",
      "  warnings.warn(_LEGEND_EMPTY_WARNING % attr)\n",
      "C:\\Users\\Asus\\AppData\\Local\\Programs\\Python\\Python39\\lib\\site-packages\\bokeh\\models\\plots.py:815: UserWarning: \n",
      "You are attempting to set `plot.legend.click_policy` on a plot that has zero legends added, this will have no effect.\n",
      "\n",
      "Before legend properties can be set, you must add a Legend explicitly, or call a glyph method with a legend parameter set.\n",
      "\n",
      "  warnings.warn(_LEGEND_EMPTY_WARNING % attr)\n"
     ]
    },
    {
     "ename": "ValueError",
     "evalue": "Only LayoutDOM items can be inserted into a column. Tried to insert: None of type <class 'NoneType'>",
     "output_type": "error",
     "traceback": [
      "\u001b[1;31m---------------------------------------------------------------------------\u001b[0m",
      "\u001b[1;31mValueError\u001b[0m                                Traceback (most recent call last)",
      "Input \u001b[1;32mIn [3]\u001b[0m, in \u001b[0;36m<cell line: 102>\u001b[1;34m()\u001b[0m\n\u001b[0;32m     98\u001b[0m p_stock \u001b[38;5;241m=\u001b[39m plot_stock_price(stock)\n\u001b[0;32m    100\u001b[0m elements\u001b[38;5;241m.\u001b[39mappend(p_stock)\n\u001b[1;32m--> 102\u001b[0m curdoc()\u001b[38;5;241m.\u001b[39madd_root(\u001b[43mcolumn\u001b[49m\u001b[43m(\u001b[49m\u001b[43melements\u001b[49m\u001b[43m)\u001b[49m)\n\u001b[0;32m    103\u001b[0m curdoc()\u001b[38;5;241m.\u001b[39mtitle \u001b[38;5;241m=\u001b[39m \u001b[38;5;124m'\u001b[39m\u001b[38;5;124mBokeh stocks historical prices\u001b[39m\u001b[38;5;124m'\u001b[39m\n",
      "File \u001b[1;32m~\\AppData\\Local\\Programs\\Python\\Python39\\lib\\site-packages\\bokeh\\layouts.py:147\u001b[0m, in \u001b[0;36mcolumn\u001b[1;34m(sizing_mode, *children, **kwargs)\u001b[0m\n\u001b[0;32m    120\u001b[0m \u001b[38;5;124;03m\"\"\" Create a column of Bokeh Layout objects. Forces all objects to\u001b[39;00m\n\u001b[0;32m    121\u001b[0m \u001b[38;5;124;03mhave the same sizing_mode, which is required for complex layouts to work.\u001b[39;00m\n\u001b[0;32m    122\u001b[0m \n\u001b[1;32m   (...)\u001b[0m\n\u001b[0;32m    144\u001b[0m \u001b[38;5;124;03m    >>> column(children=[widgets, plot], sizing_mode='stretch_both')\u001b[39;00m\n\u001b[0;32m    145\u001b[0m \u001b[38;5;124;03m\"\"\"\u001b[39;00m\n\u001b[0;32m    146\u001b[0m _children \u001b[38;5;241m=\u001b[39m _parse_children_arg(\u001b[38;5;241m*\u001b[39mchildren, children\u001b[38;5;241m=\u001b[39mkwargs\u001b[38;5;241m.\u001b[39mpop(\u001b[38;5;124m\"\u001b[39m\u001b[38;5;124mchildren\u001b[39m\u001b[38;5;124m\"\u001b[39m, \u001b[38;5;28;01mNone\u001b[39;00m))\n\u001b[1;32m--> 147\u001b[0m \u001b[43m_handle_child_sizing\u001b[49m\u001b[43m(\u001b[49m\u001b[43m_children\u001b[49m\u001b[43m,\u001b[49m\u001b[43m \u001b[49m\u001b[43msizing_mode\u001b[49m\u001b[43m,\u001b[49m\u001b[43m \u001b[49m\u001b[43mwidget\u001b[49m\u001b[38;5;241;43m=\u001b[39;49m\u001b[38;5;124;43m\"\u001b[39;49m\u001b[38;5;124;43mcolumn\u001b[39;49m\u001b[38;5;124;43m\"\u001b[39;49m\u001b[43m)\u001b[49m\n\u001b[0;32m    148\u001b[0m \u001b[38;5;28;01mreturn\u001b[39;00m Column(children\u001b[38;5;241m=\u001b[39m_children, sizing_mode\u001b[38;5;241m=\u001b[39msizing_mode, \u001b[38;5;241m*\u001b[39m\u001b[38;5;241m*\u001b[39mkwargs)\n",
      "File \u001b[1;32m~\\AppData\\Local\\Programs\\Python\\Python39\\lib\\site-packages\\bokeh\\layouts.py:647\u001b[0m, in \u001b[0;36m_handle_child_sizing\u001b[1;34m(children, sizing_mode, widget)\u001b[0m\n\u001b[0;32m    645\u001b[0m \u001b[38;5;28;01mfor\u001b[39;00m item \u001b[38;5;129;01min\u001b[39;00m children:\n\u001b[0;32m    646\u001b[0m     \u001b[38;5;28;01mif\u001b[39;00m \u001b[38;5;129;01mnot\u001b[39;00m \u001b[38;5;28misinstance\u001b[39m(item, LayoutDOM):\n\u001b[1;32m--> 647\u001b[0m         \u001b[38;5;28;01mraise\u001b[39;00m \u001b[38;5;167;01mValueError\u001b[39;00m(\u001b[38;5;124mf\u001b[39m\u001b[38;5;124m\"\u001b[39m\u001b[38;5;124mOnly LayoutDOM items can be inserted into a \u001b[39m\u001b[38;5;132;01m{\u001b[39;00mwidget\u001b[38;5;132;01m}\u001b[39;00m\u001b[38;5;124m. Tried to insert: \u001b[39m\u001b[38;5;132;01m{\u001b[39;00mitem\u001b[38;5;132;01m}\u001b[39;00m\u001b[38;5;124m of type \u001b[39m\u001b[38;5;132;01m{\u001b[39;00m\u001b[38;5;28mtype\u001b[39m(item)\u001b[38;5;132;01m}\u001b[39;00m\u001b[38;5;124m\"\u001b[39m)\n\u001b[0;32m    648\u001b[0m     \u001b[38;5;28;01mif\u001b[39;00m sizing_mode \u001b[38;5;129;01mis\u001b[39;00m \u001b[38;5;129;01mnot\u001b[39;00m \u001b[38;5;28;01mNone\u001b[39;00m \u001b[38;5;129;01mand\u001b[39;00m _has_auto_sizing(item):\n\u001b[0;32m    649\u001b[0m         item\u001b[38;5;241m.\u001b[39msizing_mode \u001b[38;5;241m=\u001b[39m sizing_mode\n",
      "\u001b[1;31mValueError\u001b[0m: Only LayoutDOM items can be inserted into a column. Tried to insert: None of type <class 'NoneType'>"
     ]
    }
   ],
   "source": [
    "#!/usr/bin/env python3\n",
    "# -*- coding:utf-8 -*-\n",
    "\n",
    "import pandas as pd  # data processing, CSV file I/O (e.g. pd.read_csv)\n",
    "import os\n",
    "from bokeh.plotting import figure, ColumnDataSource\n",
    "from bokeh.models.widgets import Dropdown\n",
    "from bokeh.io import curdoc\n",
    "from bokeh.layouts import column\n",
    "\n",
    "from bokeh.models import BooleanFilter, CDSView, Select, Range1d, HoverTool\n",
    "from bokeh.palettes import Category20\n",
    "from bokeh.models.formatters import NumeralTickFormatter\n",
    "from bokeh.io import output_notebook, show \n",
    "\n",
    "# Define constants\n",
    "W_PLOT = 1500\n",
    "H_PLOT = 600\n",
    "TOOLS = 'pan,wheel_zoom,hover,reset'\n",
    "\n",
    "VBAR_WIDTH = 0.2\n",
    "RED = Category20[7][6]\n",
    "GREEN = Category20[5][4]\n",
    "\n",
    "BLUE = Category20[3][0]\n",
    "BLUE_LIGHT = Category20[3][1]\n",
    "\n",
    "ORANGE = Category20[3][2]\n",
    "PURPLE = Category20[9][8]\n",
    "BROWN = Category20[11][10]\n",
    "\n",
    "\n",
    "def get_symbol_df(symbol=None):\n",
    "    df = pd.DataFrame(pd.read_excel('./GGRM2.xlsx'))[-400:]\n",
    "    df.reset_index(inplace=True)\n",
    "    df[\"Date\"] = pd.to_datetime(df[\"Date\"])\n",
    "    return df\n",
    "\n",
    "\n",
    "def plot_stock_price(stock):\n",
    "    p = figure(plot_width=W_PLOT, plot_height=H_PLOT, tools=TOOLS,\n",
    "               title=\"Stock price\", toolbar_location='above')\n",
    "\n",
    "    inc = stock.data['Close'] > stock.data['Open']\n",
    "    dec = stock.data['Open'] > stock.data['Close']\n",
    "    view_inc = CDSView(source=stock, filters=[BooleanFilter(inc)])\n",
    "    view_dec = CDSView(source=stock, filters=[BooleanFilter(dec)])\n",
    "\n",
    "    # map dataframe indices to date strings and use as label overrides\n",
    "    p.xaxis.major_label_overrides = {\n",
    "        i + int(stock.data['index'][0]): date.strftime('%b %d') for i, date in\n",
    "        enumerate(pd.to_datetime(stock.data[\"Date\"]))\n",
    "    }\n",
    "    p.xaxis.bounds = (stock.data['index'][0], stock.data['index'][-1])\n",
    "\n",
    "    p.segment(x0='index', x1='index', y0='Low', y1='High', color=RED, source=stock, view=view_inc)\n",
    "    p.segment(x0='index', x1='index', y0='Low', y1='High', color=GREEN, source=stock, view=view_dec)\n",
    "\n",
    "    p.vbar(x='index', width=VBAR_WIDTH, top='Open', bottom='Close', fill_color=BLUE, line_color=BLUE,\n",
    "           source=stock, view=view_inc, name=\"price\")\n",
    "    p.vbar(x='index', width=VBAR_WIDTH, top='Open', bottom='Close', fill_color=RED, line_color=RED,\n",
    "           source=stock, view=view_dec, name=\"price\")\n",
    "\n",
    "    p.legend.location = \"top_left\"\n",
    "    p.legend.border_line_alpha = 0\n",
    "    p.legend.background_fill_alpha = 0\n",
    "    p.legend.click_policy = \"mute\"\n",
    "\n",
    "    p.yaxis.formatter = NumeralTickFormatter(format='$ 0,0[.]000')\n",
    "    p.x_range.range_padding = 0.05\n",
    "    p.xaxis.ticker.desired_num_ticks = 40\n",
    "    p.xaxis.major_label_orientation = 3.14 / 4\n",
    "\n",
    "    # Select specific tool for the plot\n",
    "    price_hover = p.select(dict(type=HoverTool))\n",
    "\n",
    "    # Choose, which glyphs are active by glyph name\n",
    "    price_hover.names = [\"price\"]\n",
    "    # Creating tooltips\n",
    "    price_hover.tooltips = [(\"Datetime\", \"@Date{%Y-%m-%d}\"),\n",
    "                            (\"Open\", \"@Open{$0,0.00}\"),\n",
    "                            (\"Close\", \"@Close{$0,0.00}\"),\n",
    "                            (\"Volume\", \"@Volume{($ 0.00 a)}\")]\n",
    "    price_hover.formatters = {\"Date\": 'datetime'}\n",
    "\n",
    "    #return p\n",
    "\n",
    "    show(p)\n",
    "\n",
    "stock = ColumnDataSource(\n",
    "    data=dict(Date=[], Open=[], Close=[], High=[], Low=[], index=[]))\n",
    "symbol = 'msft'\n",
    "df = get_symbol_df(symbol)\n",
    "stock.data = stock.from_df(df)\n",
    "elements = list()\n",
    "\n",
    "# update_plot()\n",
    "p_stock = plot_stock_price(stock)\n",
    "\n",
    "elements.append(p_stock)\n",
    "\n",
    "curdoc().add_root(column(elements))\n",
    "curdoc().title = 'Bokeh stocks historical prices'\n"
   ]
  },
  {
   "cell_type": "code",
   "execution_count": null,
   "id": "db58441b",
   "metadata": {},
   "outputs": [],
   "source": []
  }
 ],
 "metadata": {
  "kernelspec": {
   "display_name": "Python 3 (ipykernel)",
   "language": "python",
   "name": "python3"
  },
  "language_info": {
   "codemirror_mode": {
    "name": "ipython",
    "version": 3
   },
   "file_extension": ".py",
   "mimetype": "text/x-python",
   "name": "python",
   "nbconvert_exporter": "python",
   "pygments_lexer": "ipython3",
   "version": "3.9.10"
  }
 },
 "nbformat": 4,
 "nbformat_minor": 5
}
