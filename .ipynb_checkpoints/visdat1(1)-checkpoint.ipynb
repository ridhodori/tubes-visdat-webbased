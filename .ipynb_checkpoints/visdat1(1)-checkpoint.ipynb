{
 "cells": [
  {
   "cell_type": "code",
   "execution_count": 1,
   "id": "304ba604",
   "metadata": {},
   "outputs": [
    {
     "name": "stdout",
     "output_type": "stream",
     "text": [
      "Requirement already satisfied: pandas in c:\\users\\asus\\appdata\\local\\programs\\python\\python39\\lib\\site-packages (1.4.2)\n",
      "Requirement already satisfied: python-dateutil>=2.8.1 in c:\\users\\asus\\appdata\\local\\programs\\python\\python39\\lib\\site-packages (from pandas) (2.8.2)\n",
      "Requirement already satisfied: numpy>=1.18.5 in c:\\users\\asus\\appdata\\local\\programs\\python\\python39\\lib\\site-packages (from pandas) (1.22.4)\n",
      "Requirement already satisfied: pytz>=2020.1 in c:\\users\\asus\\appdata\\local\\programs\\python\\python39\\lib\\site-packages (from pandas) (2022.1)\n",
      "Requirement already satisfied: six>=1.5 in c:\\users\\asus\\appdata\\local\\programs\\python\\python39\\lib\\site-packages (from python-dateutil>=2.8.1->pandas) (1.16.0)\n",
      "Note: you may need to restart the kernel to use updated packages.\n"
     ]
    },
    {
     "name": "stderr",
     "output_type": "stream",
     "text": [
      "WARNING: You are using pip version 21.2.4; however, version 22.1.2 is available.\n",
      "You should consider upgrading via the 'C:\\Users\\Asus\\AppData\\Local\\Programs\\Python\\Python39\\python.exe -m pip install --upgrade pip' command.\n"
     ]
    }
   ],
   "source": [
    "pip install pandas"
   ]
  },
  {
   "cell_type": "code",
   "execution_count": 2,
   "id": "523fa73e",
   "metadata": {},
   "outputs": [
    {
     "name": "stdout",
     "output_type": "stream",
     "text": [
      "Requirement already satisfied: bokeh in c:\\users\\asus\\appdata\\local\\programs\\python\\python39\\lib\\site-packages (2.4.3)\n",
      "Requirement already satisfied: PyYAML>=3.10 in c:\\users\\asus\\appdata\\local\\programs\\python\\python39\\lib\\site-packages (from bokeh) (6.0)\n",
      "Requirement already satisfied: Jinja2>=2.9 in c:\\users\\asus\\appdata\\local\\programs\\python\\python39\\lib\\site-packages (from bokeh) (3.1.2)\n",
      "Requirement already satisfied: pillow>=7.1.0 in c:\\users\\asus\\appdata\\local\\programs\\python\\python39\\lib\\site-packages (from bokeh) (9.1.1)\n",
      "Requirement already satisfied: typing-extensions>=3.10.0 in c:\\users\\asus\\appdata\\local\\programs\\python\\python39\\lib\\site-packages (from bokeh) (4.2.0)\n",
      "Requirement already satisfied: tornado>=5.1 in c:\\users\\asus\\appdata\\local\\programs\\python\\python39\\lib\\site-packages (from bokeh) (6.1)\n",
      "Requirement already satisfied: packaging>=16.8 in c:\\users\\asus\\appdata\\local\\programs\\python\\python39\\lib\\site-packages (from bokeh) (21.3)\n",
      "Requirement already satisfied: numpy>=1.11.3 in c:\\users\\asus\\appdata\\local\\programs\\python\\python39\\lib\\site-packages (from bokeh) (1.22.4)\n",
      "Requirement already satisfied: MarkupSafe>=2.0 in c:\\users\\asus\\appdata\\local\\programs\\python\\python39\\lib\\site-packages (from Jinja2>=2.9->bokeh) (2.1.1)\n",
      "Requirement already satisfied: pyparsing!=3.0.5,>=2.0.2 in c:\\users\\asus\\appdata\\local\\programs\\python\\python39\\lib\\site-packages (from packaging>=16.8->bokeh) (3.0.9)\n",
      "Note: you may need to restart the kernel to use updated packages.\n"
     ]
    },
    {
     "name": "stderr",
     "output_type": "stream",
     "text": [
      "WARNING: You are using pip version 21.2.4; however, version 22.1.2 is available.\n",
      "You should consider upgrading via the 'C:\\Users\\Asus\\AppData\\Local\\Programs\\Python\\Python39\\python.exe -m pip install --upgrade pip' command.\n"
     ]
    }
   ],
   "source": [
    "pip install bokeh"
   ]
  },
  {
   "cell_type": "code",
   "execution_count": 3,
   "id": "742d4267",
   "metadata": {},
   "outputs": [
    {
     "ename": "KeyError",
     "evalue": "'date'",
     "output_type": "error",
     "traceback": [
      "\u001b[1;31m---------------------------------------------------------------------------\u001b[0m",
      "\u001b[1;31mKeyError\u001b[0m                                  Traceback (most recent call last)",
      "File \u001b[1;32m~\\AppData\\Local\\Programs\\Python\\Python39\\lib\\site-packages\\pandas\\core\\indexes\\base.py:3621\u001b[0m, in \u001b[0;36mIndex.get_loc\u001b[1;34m(self, key, method, tolerance)\u001b[0m\n\u001b[0;32m   3620\u001b[0m \u001b[38;5;28;01mtry\u001b[39;00m:\n\u001b[1;32m-> 3621\u001b[0m     \u001b[38;5;28;01mreturn\u001b[39;00m \u001b[38;5;28;43mself\u001b[39;49m\u001b[38;5;241;43m.\u001b[39;49m\u001b[43m_engine\u001b[49m\u001b[38;5;241;43m.\u001b[39;49m\u001b[43mget_loc\u001b[49m\u001b[43m(\u001b[49m\u001b[43mcasted_key\u001b[49m\u001b[43m)\u001b[49m\n\u001b[0;32m   3622\u001b[0m \u001b[38;5;28;01mexcept\u001b[39;00m \u001b[38;5;167;01mKeyError\u001b[39;00m \u001b[38;5;28;01mas\u001b[39;00m err:\n",
      "File \u001b[1;32m~\\AppData\\Local\\Programs\\Python\\Python39\\lib\\site-packages\\pandas\\_libs\\index.pyx:136\u001b[0m, in \u001b[0;36mpandas._libs.index.IndexEngine.get_loc\u001b[1;34m()\u001b[0m\n",
      "File \u001b[1;32m~\\AppData\\Local\\Programs\\Python\\Python39\\lib\\site-packages\\pandas\\_libs\\index.pyx:163\u001b[0m, in \u001b[0;36mpandas._libs.index.IndexEngine.get_loc\u001b[1;34m()\u001b[0m\n",
      "File \u001b[1;32mpandas\\_libs\\hashtable_class_helper.pxi:5198\u001b[0m, in \u001b[0;36mpandas._libs.hashtable.PyObjectHashTable.get_item\u001b[1;34m()\u001b[0m\n",
      "File \u001b[1;32mpandas\\_libs\\hashtable_class_helper.pxi:5206\u001b[0m, in \u001b[0;36mpandas._libs.hashtable.PyObjectHashTable.get_item\u001b[1;34m()\u001b[0m\n",
      "\u001b[1;31mKeyError\u001b[0m: 'date'",
      "\nThe above exception was the direct cause of the following exception:\n",
      "\u001b[1;31mKeyError\u001b[0m                                  Traceback (most recent call last)",
      "Input \u001b[1;32mIn [3]\u001b[0m, in \u001b[0;36m<cell line: 93>\u001b[1;34m()\u001b[0m\n\u001b[0;32m     90\u001b[0m stock \u001b[38;5;241m=\u001b[39m ColumnDataSource(\n\u001b[0;32m     91\u001b[0m     data\u001b[38;5;241m=\u001b[39m\u001b[38;5;28mdict\u001b[39m(Date\u001b[38;5;241m=\u001b[39m[], Open\u001b[38;5;241m=\u001b[39m[], Close\u001b[38;5;241m=\u001b[39m[], High\u001b[38;5;241m=\u001b[39m[], Low\u001b[38;5;241m=\u001b[39m[], index\u001b[38;5;241m=\u001b[39m[]))\n\u001b[0;32m     92\u001b[0m symbol \u001b[38;5;241m=\u001b[39m \u001b[38;5;124m'\u001b[39m\u001b[38;5;124mmsft\u001b[39m\u001b[38;5;124m'\u001b[39m\n\u001b[1;32m---> 93\u001b[0m df \u001b[38;5;241m=\u001b[39m \u001b[43mget_symbol_df\u001b[49m\u001b[43m(\u001b[49m\u001b[43msymbol\u001b[49m\u001b[43m)\u001b[49m\n\u001b[0;32m     94\u001b[0m stock\u001b[38;5;241m.\u001b[39mdata \u001b[38;5;241m=\u001b[39m stock\u001b[38;5;241m.\u001b[39mfrom_df(df)\n\u001b[0;32m     95\u001b[0m elements \u001b[38;5;241m=\u001b[39m \u001b[38;5;28mlist\u001b[39m()\n",
      "Input \u001b[1;32mIn [3]\u001b[0m, in \u001b[0;36mget_symbol_df\u001b[1;34m(symbol)\u001b[0m\n\u001b[0;32m     34\u001b[0m df \u001b[38;5;241m=\u001b[39m pd\u001b[38;5;241m.\u001b[39mDataFrame(pd\u001b[38;5;241m.\u001b[39mread_csv(\u001b[38;5;124m'\u001b[39m\u001b[38;5;124m./GGRM.csv\u001b[39m\u001b[38;5;124m'\u001b[39m))[\u001b[38;5;241m-\u001b[39m\u001b[38;5;241m50\u001b[39m:]\n\u001b[0;32m     35\u001b[0m df\u001b[38;5;241m.\u001b[39mreset_index(inplace\u001b[38;5;241m=\u001b[39m\u001b[38;5;28;01mTrue\u001b[39;00m)\n\u001b[1;32m---> 36\u001b[0m df[\u001b[38;5;124m\"\u001b[39m\u001b[38;5;124mdate\u001b[39m\u001b[38;5;124m\"\u001b[39m] \u001b[38;5;241m=\u001b[39m pd\u001b[38;5;241m.\u001b[39mto_datetime(\u001b[43mdf\u001b[49m\u001b[43m[\u001b[49m\u001b[38;5;124;43m\"\u001b[39;49m\u001b[38;5;124;43mdate\u001b[39;49m\u001b[38;5;124;43m\"\u001b[39;49m\u001b[43m]\u001b[49m)\n\u001b[0;32m     37\u001b[0m \u001b[38;5;28;01mreturn\u001b[39;00m df\n",
      "File \u001b[1;32m~\\AppData\\Local\\Programs\\Python\\Python39\\lib\\site-packages\\pandas\\core\\frame.py:3505\u001b[0m, in \u001b[0;36mDataFrame.__getitem__\u001b[1;34m(self, key)\u001b[0m\n\u001b[0;32m   3503\u001b[0m \u001b[38;5;28;01mif\u001b[39;00m \u001b[38;5;28mself\u001b[39m\u001b[38;5;241m.\u001b[39mcolumns\u001b[38;5;241m.\u001b[39mnlevels \u001b[38;5;241m>\u001b[39m \u001b[38;5;241m1\u001b[39m:\n\u001b[0;32m   3504\u001b[0m     \u001b[38;5;28;01mreturn\u001b[39;00m \u001b[38;5;28mself\u001b[39m\u001b[38;5;241m.\u001b[39m_getitem_multilevel(key)\n\u001b[1;32m-> 3505\u001b[0m indexer \u001b[38;5;241m=\u001b[39m \u001b[38;5;28;43mself\u001b[39;49m\u001b[38;5;241;43m.\u001b[39;49m\u001b[43mcolumns\u001b[49m\u001b[38;5;241;43m.\u001b[39;49m\u001b[43mget_loc\u001b[49m\u001b[43m(\u001b[49m\u001b[43mkey\u001b[49m\u001b[43m)\u001b[49m\n\u001b[0;32m   3506\u001b[0m \u001b[38;5;28;01mif\u001b[39;00m is_integer(indexer):\n\u001b[0;32m   3507\u001b[0m     indexer \u001b[38;5;241m=\u001b[39m [indexer]\n",
      "File \u001b[1;32m~\\AppData\\Local\\Programs\\Python\\Python39\\lib\\site-packages\\pandas\\core\\indexes\\base.py:3623\u001b[0m, in \u001b[0;36mIndex.get_loc\u001b[1;34m(self, key, method, tolerance)\u001b[0m\n\u001b[0;32m   3621\u001b[0m     \u001b[38;5;28;01mreturn\u001b[39;00m \u001b[38;5;28mself\u001b[39m\u001b[38;5;241m.\u001b[39m_engine\u001b[38;5;241m.\u001b[39mget_loc(casted_key)\n\u001b[0;32m   3622\u001b[0m \u001b[38;5;28;01mexcept\u001b[39;00m \u001b[38;5;167;01mKeyError\u001b[39;00m \u001b[38;5;28;01mas\u001b[39;00m err:\n\u001b[1;32m-> 3623\u001b[0m     \u001b[38;5;28;01mraise\u001b[39;00m \u001b[38;5;167;01mKeyError\u001b[39;00m(key) \u001b[38;5;28;01mfrom\u001b[39;00m \u001b[38;5;21;01merr\u001b[39;00m\n\u001b[0;32m   3624\u001b[0m \u001b[38;5;28;01mexcept\u001b[39;00m \u001b[38;5;167;01mTypeError\u001b[39;00m:\n\u001b[0;32m   3625\u001b[0m     \u001b[38;5;66;03m# If we have a listlike key, _check_indexing_error will raise\u001b[39;00m\n\u001b[0;32m   3626\u001b[0m     \u001b[38;5;66;03m#  InvalidIndexError. Otherwise we fall through and re-raise\u001b[39;00m\n\u001b[0;32m   3627\u001b[0m     \u001b[38;5;66;03m#  the TypeError.\u001b[39;00m\n\u001b[0;32m   3628\u001b[0m     \u001b[38;5;28mself\u001b[39m\u001b[38;5;241m.\u001b[39m_check_indexing_error(key)\n",
      "\u001b[1;31mKeyError\u001b[0m: 'date'"
     ]
    }
   ],
   "source": [
    "#!/usr/bin/env python3\n",
    "# -*- coding:utf-8 -*-\n",
    "\n",
    "import pandas as pd  # data processing, CSV file I/O (e.g. pd.read_csv)\n",
    "import os\n",
    "from bokeh.plotting import figure, ColumnDataSource\n",
    "from bokeh.models.widgets import Dropdown\n",
    "from bokeh.io import curdoc\n",
    "from bokeh.layouts import column\n",
    "\n",
    "from bokeh.models import BooleanFilter, CDSView, Select, Range1d, HoverTool\n",
    "from bokeh.palettes import Category20\n",
    "from bokeh.models.formatters import NumeralTickFormatter\n",
    "from bokeh.io import output_notebook, show \n",
    "\n",
    "# Define constants\n",
    "W_PLOT = 1500\n",
    "H_PLOT = 600\n",
    "TOOLS = 'pan,wheel_zoom,hover,reset'\n",
    "\n",
    "VBAR_WIDTH = 0.2\n",
    "RED = Category20[7][6]\n",
    "GREEN = Category20[5][4]\n",
    "\n",
    "BLUE = Category20[3][0]\n",
    "BLUE_LIGHT = Category20[3][1]\n",
    "\n",
    "ORANGE = Category20[3][2]\n",
    "PURPLE = Category20[9][8]\n",
    "BROWN = Category20[11][10]\n",
    "\n",
    "\n",
    "def get_symbol_df(symbol=None):\n",
    "    df = pd.DataFrame(pd.read_csv('./GGRM.csv'))[-50:]\n",
    "    df.reset_index(inplace=True)\n",
    "    df[\"date\"] = pd.to_datetime(df[\"date\"])\n",
    "    return df\n",
    "\n",
    "\n",
    "def plot_stock_price(stock):\n",
    "    p = figure(plot_width=W_PLOT, plot_height=H_PLOT, tools=TOOLS,\n",
    "               title=\"Stock price\", toolbar_location='above')\n",
    "\n",
    "    inc = stock.data['close'] > stock.data['open']\n",
    "    dec = stock.data['open'] > stock.data['close']\n",
    "    view_inc = CDSView(source=stock, filters=[BooleanFilter(inc)])\n",
    "    view_dec = CDSView(source=stock, filters=[BooleanFilter(dec)])\n",
    "\n",
    "    # map dataframe indices to date strings and use as label overrides\n",
    "    p.xaxis.major_label_overrides = {\n",
    "        i + int(stock.data['index'][0]): date.strftime('%b %d') for i, date in\n",
    "        enumerate(pd.to_datetime(stock.data[\"date\"]))\n",
    "    }\n",
    "    p.xaxis.bounds = (stock.data['index'][0], stock.data['index'][-1])\n",
    "\n",
    "    p.segment(x0='index', x1='index', y0='low', y1='high', color=RED, source=stock, view=view_inc)\n",
    "    p.segment(x0='index', x1='index', y0='low', y1='high', color=GREEN, source=stock, view=view_dec)\n",
    "\n",
    "    p.vbar(x='index', width=VBAR_WIDTH, top='open', bottom='close', fill_color=BLUE, line_color=BLUE,\n",
    "           source=stock, view=view_inc, name=\"price\")\n",
    "    p.vbar(x='index', width=VBAR_WIDTH, top='open', bottom='close', fill_color=RED, line_color=RED,\n",
    "           source=stock, view=view_dec, name=\"price\")\n",
    "\n",
    "    p.legend.location = \"top_left\"\n",
    "    p.legend.border_line_alpha = 0\n",
    "    p.legend.background_fill_alpha = 0\n",
    "    p.legend.click_policy = \"mute\"\n",
    "\n",
    "    p.yaxis.formatter = NumeralTickFormatter(format='$ 0,0[.]000')\n",
    "    p.x_range.range_padding = 0.05\n",
    "    p.xaxis.ticker.desired_num_ticks = 40\n",
    "    p.xaxis.major_label_orientation = 3.14 / 4\n",
    "\n",
    "    # Select specific tool for the plot\n",
    "    price_hover = p.select(dict(type=HoverTool))\n",
    "\n",
    "    # Choose, which glyphs are active by glyph name\n",
    "    price_hover.names = [\"price\"]\n",
    "    # Creating tooltips\n",
    "    price_hover.tooltips = [(\"Datetime\", \"@date{%Y-%m-%d}\"),\n",
    "                            (\"open\", \"@open{$0,0.00}\"),\n",
    "                            (\"close\", \"@close{$0,0.00}\"),\n",
    "                            (\"volume\", \"@volume{($ 0.00 a)}\")]\n",
    "    price_hover.formatters = {\"date\": 'datetime'}\n",
    "\n",
    "    #return p\n",
    "\n",
    "    show(p)\n",
    "\n",
    "stock = ColumnDataSource(\n",
    "    data=dict(Date=[], Open=[], Close=[], High=[], Low=[], index=[]))\n",
    "symbol = 'msft'\n",
    "df = get_symbol_df(symbol)\n",
    "stock.data = stock.from_df(df)\n",
    "elements = list()\n",
    "\n",
    "# update_plot()\n",
    "p_stock = plot_stock_price(stock)\n",
    "\n",
    "elements.append(p_stock)\n",
    "\n",
    "curdoc().add_root(column(elements))\n",
    "curdoc().title = 'Bokeh stocks historical prices'\n"
   ]
  },
  {
   "cell_type": "code",
   "execution_count": null,
   "id": "f972002e",
   "metadata": {},
   "outputs": [],
   "source": []
  }
 ],
 "metadata": {
  "kernelspec": {
   "display_name": "Python 3 (ipykernel)",
   "language": "python",
   "name": "python3"
  },
  "language_info": {
   "codemirror_mode": {
    "name": "ipython",
    "version": 3
   },
   "file_extension": ".py",
   "mimetype": "text/x-python",
   "name": "python",
   "nbconvert_exporter": "python",
   "pygments_lexer": "ipython3",
   "version": "3.9.10"
  }
 },
 "nbformat": 4,
 "nbformat_minor": 5
}
